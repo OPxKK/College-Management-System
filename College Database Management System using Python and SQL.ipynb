{
 "cells": [
  {
   "cell_type": "code",
   "execution_count": 2,
   "id": "82569e85",
   "metadata": {},
   "outputs": [],
   "source": [
    "import mysql.connector as mysql"
   ]
  },
  {
   "cell_type": "code",
   "execution_count": 3,
   "id": "7e45166b",
   "metadata": {},
   "outputs": [],
   "source": [
    "db = mysql.connect(host = \"localhost\", username = \"root\", password=\"Tajmahal123\", database=\"collegedb\")"
   ]
  },
  {
   "cell_type": "code",
   "execution_count": 4,
   "id": "bea1366e",
   "metadata": {},
   "outputs": [],
   "source": [
    "\n",
    "command_handler = db.cursor(buffered = True)"
   ]
  },
  {
   "cell_type": "code",
   "execution_count": 22,
   "id": "e91864d8",
   "metadata": {},
   "outputs": [],
   "source": [
    "def admin_session():\n",
    "     while 1:\n",
    "            print(\"\")\n",
    "            print(\"Admin menu\")\n",
    "            print(\"1. Register new Student\")\n",
    "            print(\"2. Register new Teacher\")\n",
    "            print(\"3. Delete existing Student\")\n",
    "            print(\"4. Delete existing Teacher\")\n",
    "            print(\"5. Logout\")\n",
    "\n",
    "            user_option = input(str(\"Option :  \"))\n",
    "            if user_option == \"1\":\n",
    "                print(\"\")\n",
    "                print(\"Registering New Student\")\n",
    "                username = input(str(\"Student username : \"))\n",
    "                password = input(str(\"Student password : \"))\n",
    "                query_params = (username, password)\n",
    "                command_handler.execute(\"INSERT INTO users (username, password, privilege) VALUES (%s, %s, 'student')\", query_params)\n",
    "                db.commit()\n",
    "                print(username + \"  has been registered as a student\")\n",
    "                \n",
    "                \n",
    "                \n",
    "            elif user_option == \"2\":    \n",
    "                print(\"\")\n",
    "                print(\"Registering New Teacher\")\n",
    "                username = input(str(\"Teacher username : \"))\n",
    "                password = input(str(\"Teacher password : \"))\n",
    "                query_params = (username, password)\n",
    "                command_handler.execute(\"INSERT INTO users (username, password, privilege) VALUES (%s, %s, 'teacher')\", query_params)\n",
    "                db.commit()\n",
    "                print(username + \"  has been registered as a teacher\")\n",
    "                \n",
    "            elif user_option == \"3\":\n",
    "                print(\"\")\n",
    "                print(\"Deleting Student\")\n",
    "                username = input(str(\"Student username : \"))\n",
    "                query_params = (username, \"student\")\n",
    "                command_handler.execute(\"DELETE FROM users WHERE username = %s AND privilege = %s\", query_params)\n",
    "                db.commit()\n",
    "                if command_handler.rowcount < 1:\n",
    "                    print(\"No such Student\")\n",
    "                else:\n",
    "                    print(username + \" has been deleted\")\n",
    "                    \n",
    "            elif user_option ==\"4\":\n",
    "                print(\"\")\n",
    "                print(\"Deleting Teacher\")\n",
    "                username = input(str(\"Teacher username : \"))\n",
    "                query_params = (username, \"teacher\")\n",
    "                command_handler.execute(\"DELETE from users where username = %s and privilege = %s\", query_params)\n",
    "                db.commit()\n",
    "                if command_handler.rowcount < 1:\n",
    "                    print(\"No such Teacher\")\n",
    "                else:\n",
    "                    print(username + \" has been deleted\")\n",
    "                    \n",
    "            elif user_option == \"5\":\n",
    "                break\n",
    "                \n",
    "            else:\n",
    "                print(\"Invalid Input\")"
   ]
  },
  {
   "cell_type": "code",
   "execution_count": 6,
   "id": "ec694c0a",
   "metadata": {},
   "outputs": [],
   "source": [
    "def auth_admin():\n",
    "    print(\"\")\n",
    "    print(\"Admin Login\")\n",
    "    print(\"\")\n",
    "    username = input(str(\"Username : \"))\n",
    "    password = input(str(\"Password : \"))\n",
    "    if username == \"admin\":\n",
    "        if password == \"password\":\n",
    "            admin_session()\n",
    "        else:\n",
    "            print(\"Incorrect Password\")\n",
    "    else:\n",
    "        print(\"Login Details are not recognized\")             \n",
    "\n"
   ]
  },
  {
   "cell_type": "code",
   "execution_count": 7,
   "id": "59490590",
   "metadata": {},
   "outputs": [],
   "source": [
    "def main():\n",
    "    while 1:\n",
    "        print('Welcome to the college system')\n",
    "        print('')\n",
    "        print('1. Login as Student')\n",
    "        print('2. Login as Teacher')\n",
    "        print('3. Login as admin')\n",
    "\n",
    "\n",
    "        user_option = input(str(\"Option : \"))\n",
    "\n",
    "        if user_option == \"1\":\n",
    "            print(\"Student Login\")\n",
    "        elif user_option == \"2\":\n",
    "            print(\"Teacher Login\")    \n",
    "        elif user_option == \"3\":\n",
    "            auth_admin()\n",
    "        else:\n",
    "            print('Invalid input entered')    \n",
    "      "
   ]
  },
  {
   "cell_type": "code",
   "execution_count": 23,
   "id": "66565e8a",
   "metadata": {},
   "outputs": [
    {
     "name": "stdout",
     "output_type": "stream",
     "text": [
      "Welcome to the college system\n",
      "\n",
      "1. Login as Student\n",
      "2. Login as Teacher\n",
      "3. Login as admin\n",
      "Option : 3\n",
      "\n",
      "Admin Login\n",
      "\n",
      "Username : admin\n",
      "Password : password\n",
      "\n",
      "Admin menu\n",
      "1. Register new Student\n",
      "2. Register new Teacher\n",
      "3. Delete existing Student\n",
      "4. Delete existing Teacher\n",
      "5. Logout\n",
      "Option :  5\n",
      "Welcome to the college system\n",
      "\n",
      "1. Login as Student\n",
      "2. Login as Teacher\n",
      "3. Login as admin\n",
      "Option : 4\n",
      "Invalid input entered\n",
      "Welcome to the college system\n",
      "\n",
      "1. Login as Student\n",
      "2. Login as Teacher\n",
      "3. Login as admin\n"
     ]
    },
    {
     "ename": "KeyboardInterrupt",
     "evalue": "Interrupted by user",
     "output_type": "error",
     "traceback": [
      "\u001b[1;31m---------------------------------------------------------------------------\u001b[0m",
      "\u001b[1;31mKeyboardInterrupt\u001b[0m                         Traceback (most recent call last)",
      "\u001b[1;32m~\\AppData\\Local\\Temp/ipykernel_11796/451043146.py\u001b[0m in \u001b[0;36m<module>\u001b[1;34m\u001b[0m\n\u001b[1;32m----> 1\u001b[1;33m \u001b[0mmain\u001b[0m\u001b[1;33m(\u001b[0m\u001b[1;33m)\u001b[0m\u001b[1;33m\u001b[0m\u001b[1;33m\u001b[0m\u001b[0m\n\u001b[0m",
      "\u001b[1;32m~\\AppData\\Local\\Temp/ipykernel_11796/1057071556.py\u001b[0m in \u001b[0;36mmain\u001b[1;34m()\u001b[0m\n\u001b[0;32m      8\u001b[0m \u001b[1;33m\u001b[0m\u001b[0m\n\u001b[0;32m      9\u001b[0m \u001b[1;33m\u001b[0m\u001b[0m\n\u001b[1;32m---> 10\u001b[1;33m         \u001b[0muser_option\u001b[0m \u001b[1;33m=\u001b[0m \u001b[0minput\u001b[0m\u001b[1;33m(\u001b[0m\u001b[0mstr\u001b[0m\u001b[1;33m(\u001b[0m\u001b[1;34m\"Option : \"\u001b[0m\u001b[1;33m)\u001b[0m\u001b[1;33m)\u001b[0m\u001b[1;33m\u001b[0m\u001b[1;33m\u001b[0m\u001b[0m\n\u001b[0m\u001b[0;32m     11\u001b[0m \u001b[1;33m\u001b[0m\u001b[0m\n\u001b[0;32m     12\u001b[0m         \u001b[1;32mif\u001b[0m \u001b[0muser_option\u001b[0m \u001b[1;33m==\u001b[0m \u001b[1;34m\"1\"\u001b[0m\u001b[1;33m:\u001b[0m\u001b[1;33m\u001b[0m\u001b[1;33m\u001b[0m\u001b[0m\n",
      "\u001b[1;32mc:\\users\\shobh\\appdata\\local\\programs\\python\\python39\\lib\\site-packages\\ipykernel\\kernelbase.py\u001b[0m in \u001b[0;36mraw_input\u001b[1;34m(self, prompt)\u001b[0m\n\u001b[0;32m   1004\u001b[0m                 \u001b[1;34m\"raw_input was called, but this frontend does not support input requests.\"\u001b[0m\u001b[1;33m\u001b[0m\u001b[1;33m\u001b[0m\u001b[0m\n\u001b[0;32m   1005\u001b[0m             )\n\u001b[1;32m-> 1006\u001b[1;33m         return self._input_request(\n\u001b[0m\u001b[0;32m   1007\u001b[0m             \u001b[0mstr\u001b[0m\u001b[1;33m(\u001b[0m\u001b[0mprompt\u001b[0m\u001b[1;33m)\u001b[0m\u001b[1;33m,\u001b[0m\u001b[1;33m\u001b[0m\u001b[1;33m\u001b[0m\u001b[0m\n\u001b[0;32m   1008\u001b[0m             \u001b[0mself\u001b[0m\u001b[1;33m.\u001b[0m\u001b[0m_parent_ident\u001b[0m\u001b[1;33m[\u001b[0m\u001b[1;34m\"shell\"\u001b[0m\u001b[1;33m]\u001b[0m\u001b[1;33m,\u001b[0m\u001b[1;33m\u001b[0m\u001b[1;33m\u001b[0m\u001b[0m\n",
      "\u001b[1;32mc:\\users\\shobh\\appdata\\local\\programs\\python\\python39\\lib\\site-packages\\ipykernel\\kernelbase.py\u001b[0m in \u001b[0;36m_input_request\u001b[1;34m(self, prompt, ident, parent, password)\u001b[0m\n\u001b[0;32m   1049\u001b[0m             \u001b[1;32mexcept\u001b[0m \u001b[0mKeyboardInterrupt\u001b[0m\u001b[1;33m:\u001b[0m\u001b[1;33m\u001b[0m\u001b[1;33m\u001b[0m\u001b[0m\n\u001b[0;32m   1050\u001b[0m                 \u001b[1;31m# re-raise KeyboardInterrupt, to truncate traceback\u001b[0m\u001b[1;33m\u001b[0m\u001b[1;33m\u001b[0m\u001b[0m\n\u001b[1;32m-> 1051\u001b[1;33m                 \u001b[1;32mraise\u001b[0m \u001b[0mKeyboardInterrupt\u001b[0m\u001b[1;33m(\u001b[0m\u001b[1;34m\"Interrupted by user\"\u001b[0m\u001b[1;33m)\u001b[0m \u001b[1;32mfrom\u001b[0m \u001b[1;32mNone\u001b[0m\u001b[1;33m\u001b[0m\u001b[1;33m\u001b[0m\u001b[0m\n\u001b[0m\u001b[0;32m   1052\u001b[0m             \u001b[1;32mexcept\u001b[0m \u001b[0mException\u001b[0m\u001b[1;33m:\u001b[0m\u001b[1;33m\u001b[0m\u001b[1;33m\u001b[0m\u001b[0m\n\u001b[0;32m   1053\u001b[0m                 \u001b[0mself\u001b[0m\u001b[1;33m.\u001b[0m\u001b[0mlog\u001b[0m\u001b[1;33m.\u001b[0m\u001b[0mwarning\u001b[0m\u001b[1;33m(\u001b[0m\u001b[1;34m\"Invalid Message:\"\u001b[0m\u001b[1;33m,\u001b[0m \u001b[0mexc_info\u001b[0m\u001b[1;33m=\u001b[0m\u001b[1;32mTrue\u001b[0m\u001b[1;33m)\u001b[0m\u001b[1;33m\u001b[0m\u001b[1;33m\u001b[0m\u001b[0m\n",
      "\u001b[1;31mKeyboardInterrupt\u001b[0m: Interrupted by user"
     ]
    }
   ],
   "source": [
    "main()"
   ]
  },
  {
   "cell_type": "code",
   "execution_count": null,
   "id": "b75e0ca9",
   "metadata": {},
   "outputs": [],
   "source": []
  },
  {
   "cell_type": "code",
   "execution_count": null,
   "id": "e9f6e261",
   "metadata": {},
   "outputs": [],
   "source": []
  }
 ],
 "metadata": {
  "kernelspec": {
   "display_name": "Python 3 (ipykernel)",
   "language": "python",
   "name": "python3"
  },
  "language_info": {
   "codemirror_mode": {
    "name": "ipython",
    "version": 3
   },
   "file_extension": ".py",
   "mimetype": "text/x-python",
   "name": "python",
   "nbconvert_exporter": "python",
   "pygments_lexer": "ipython3",
   "version": "3.9.7"
  }
 },
 "nbformat": 4,
 "nbformat_minor": 5
}
